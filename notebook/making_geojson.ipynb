{
 "cells": [
  {
   "cell_type": "code",
   "execution_count": 9,
   "metadata": {},
   "outputs": [],
   "source": [
    "# Import Libraries\n",
    "# pip install all below\n",
    "import pandas as pd\n",
    "import numpy as np\n",
    "import geopandas as gpd\n",
    "import geojsonio\n",
    "from geojson import Feature, FeatureCollection, Point\n",
    "from shapely import wkt\n",
    "\n",
    "from sqlalchemy import create_engine\n",
    "from config import aws_user\n",
    "from config import aws_password"
   ]
  },
  {
   "cell_type": "code",
   "execution_count": 10,
   "metadata": {},
   "outputs": [],
   "source": [
    "geo_json = gpd.read_file('../static/js/counties.json')"
   ]
  },
  {
   "cell_type": "code",
   "execution_count": 11,
   "metadata": {},
   "outputs": [],
   "source": [
    "geo_json_df = pd.DataFrame(geo_json)"
   ]
  },
  {
   "cell_type": "code",
   "execution_count": 12,
   "metadata": {},
   "outputs": [],
   "source": [
    "# Pull Internet CSV\n",
    "internet_access_df = pd.read_csv('../resources/visualization/viz_prep.csv')"
   ]
  },
  {
   "cell_type": "code",
   "execution_count": 13,
   "metadata": {},
   "outputs": [],
   "source": [
    "# Merge geojson, state, and internet score\n",
    "merged_df = geo_json_df.merge(internet_access_df, how='inner', on='geo_id')"
   ]
  },
  {
   "cell_type": "code",
   "execution_count": 14,
   "metadata": {},
   "outputs": [],
   "source": [
    "# Reorder\n",
    "merged_df = merged_df[['geo_id',\n",
    "                       'fips',\n",
    "                       'state_id',\n",
    "                       'county_id',\n",
    "                       'state_name',\n",
    "                       'county_name',\n",
    "                       'internet_score',\n",
    "                       'geometry',\n",
    "                      ]]"
   ]
  },
  {
   "cell_type": "code",
   "execution_count": 15,
   "metadata": {},
   "outputs": [],
   "source": [
    "# Create GeoDataFrame\n",
    "gdf = gpd.GeoDataFrame(merged_df, geometry='geometry')\n"
   ]
  },
  {
   "cell_type": "code",
   "execution_count": 17,
   "metadata": {},
   "outputs": [],
   "source": [
    "gdf.to_file(\"../static/js/boundaries.json\", driver=\"GeoJSON\")"
   ]
  },
  {
   "cell_type": "code",
   "execution_count": null,
   "metadata": {},
   "outputs": [],
   "source": [
    "# Load output in AWS S3"
   ]
  }
 ],
 "metadata": {
  "kernelspec": {
   "display_name": "PythonData",
   "language": "python",
   "name": "pythondata"
  },
  "language_info": {
   "codemirror_mode": {
    "name": "ipython",
    "version": 3
   },
   "file_extension": ".py",
   "mimetype": "text/x-python",
   "name": "python",
   "nbconvert_exporter": "python",
   "pygments_lexer": "ipython3",
   "version": "3.8.3"
  }
 },
 "nbformat": 4,
 "nbformat_minor": 4
}
